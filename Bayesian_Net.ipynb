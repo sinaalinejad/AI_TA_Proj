{
 "cells": [
  {
   "cell_type": "markdown",
   "metadata": {},
   "source": [
    "## Imports"
   ]
  },
  {
   "cell_type": "code",
   "execution_count": 1,
   "metadata": {},
   "outputs": [],
   "source": [
    "import os\n",
    "import json\n",
    "import numpy as np\n",
    "import matplotlib.pyplot as plt\n",
    "%run \"bn_utils.ipynb\""
   ]
  },
  {
   "cell_type": "code",
   "execution_count": 2,
   "metadata": {},
   "outputs": [],
   "source": [
    "IN_PATH = \".\\inputs\"\n",
    "OUT_PATH = \".\\outputs\""
   ]
  },
  {
   "cell_type": "markdown",
   "metadata": {},
   "source": [
    "## Exact Inference"
   ]
  },
  {
   "cell_type": "code",
   "execution_count": null,
   "metadata": {},
   "outputs": [],
   "source": [
    "def exact_inference(evidence, probability, nodes, values, graph3):\n",
    "    new_probability = []\n",
    "    for i in range(len(probability)):\n",
    "        cpt = []\n",
    "        for row in probability[i]:\n",
    "            if row[i] != evidence[i] and evidence[i] != -1:\n",
    "                continue\n",
    "            flag = 1\n",
    "            for j in graph3[i]:\n",
    "                if row[j] != evidence[j] and evidence[j] != -1:\n",
    "                    flag = 0\n",
    "            if flag:\n",
    "                cpt.append(row)\n",
    "        new_probability.append(cpt)\n",
    "    return variable_elimination(evidence.copy(), nodes, new_probability.copy(), values)"
   ]
  },
  {
   "cell_type": "markdown",
   "metadata": {},
   "source": [
    "## Loading Model\n",
    "You should read the bayesian network from the *path* and output:\n",
    "1. conditional probability tables (CPTs) [list of list of dictionary]\n",
    "    - each member (cpt) is a list\n",
    "    - each member of cpt is a dictionary:\n",
    "        - the dictionary contains *|parents(v)| + 2* keys. (the value of parents of *v*, the value of *v* and *'prob'*)\n",
    "        - e.g:\n",
    "            *{\n",
    "                V<sub>1</sub>: True,\n",
    "                V<sub>2</sub>: False,\n",
    "                ...\n",
    "                V<sub>v</sub>: True,\n",
    "                'prob': 0.66\n",
    "            }*\n",
    "\n",
    "2. graph (bayesian network) [dictionary of list of list]\n",
    "    - the keys are *'parents_nodes'* and *'children_nodes'*\n",
    "    - the value of each key is a list of list; the element at index *i* is the parents/children of vertex *i*\n",
    "\n",
    "3. V (the number variables/vertexes) [integer]"
   ]
  },
  {
   "cell_type": "code",
   "execution_count": null,
   "metadata": {},
   "outputs": [],
   "source": [
    "def load_model(path):\n",
    "    pass"
   ]
  },
  {
   "cell_type": "markdown",
   "metadata": {},
   "source": [
    "## Approximate Inference"
   ]
  },
  {
   "cell_type": "markdown",
   "metadata": {},
   "source": [
    "#### Prior Sampling"
   ]
  },
  {
   "cell_type": "code",
   "execution_count": null,
   "metadata": {},
   "outputs": [],
   "source": [
    "def prior_sample(query, evidence, cpts, n):\n",
    "    pass"
   ]
  },
  {
   "cell_type": "markdown",
   "metadata": {},
   "source": [
    "#### Rejection Sampling"
   ]
  },
  {
   "cell_type": "code",
   "execution_count": null,
   "metadata": {},
   "outputs": [],
   "source": [
    "def rejection_sample(query, evidence, cpts, graph):\n",
    "    pass"
   ]
  },
  {
   "cell_type": "markdown",
   "metadata": {},
   "source": [
    "#### Likelihood Sampling"
   ]
  },
  {
   "cell_type": "code",
   "execution_count": null,
   "metadata": {},
   "outputs": [],
   "source": [
    "def likelihood_sample(query, evidence, cpts, graph):\n",
    "    pass"
   ]
  },
  {
   "cell_type": "markdown",
   "metadata": {},
   "source": [
    "#### Gibbs Sampling"
   ]
  },
  {
   "cell_type": "code",
   "execution_count": null,
   "metadata": {},
   "outputs": [],
   "source": [
    "def gibbs_sample(query, evidence, cpts, graph):\n",
    "    pass"
   ]
  },
  {
   "cell_type": "markdown",
   "metadata": {},
   "source": [
    "## Reading Queries"
   ]
  },
  {
   "cell_type": "code",
   "execution_count": null,
   "metadata": {},
   "outputs": [],
   "source": [
    "def read_queries():\n",
    "    pass"
   ]
  },
  {
   "cell_type": "markdown",
   "metadata": {},
   "source": [
    "## Execution"
   ]
  },
  {
   "cell_type": "code",
   "execution_count": null,
   "metadata": {},
   "outputs": [],
   "source": [
    "cpts, graph, V = load_model(IN_PATH)\n",
    "queries, evidences = read_queries(IN_PATH)\n",
    "\n",
    "prior_ae_vals = []\n",
    "rejection_ae_vals = []\n",
    "likelihood_ae_vals = []\n",
    "gibbs_ae_vals = []\n",
    "for i in range(len(queries)):\n",
    "    exact_val = exact_inference(queries[i], evidences[i], cpts, graph)\n",
    "    prior = prior_sample(queries[i], evidences[i], cpts, graph)\n",
    "    rejection = rejection_sample(queries[i], evidences[i], cpts, graph)\n",
    "    likelihood = likelihood_sample(queries[i], evidences[i], cpts, graph)\n",
    "    gibbs = gibbs_sample(queries[i], evidences[i], cpts, graph)\n",
    "    prior_ae_vals.append(abs(prior - exact_val))\n",
    "    rejection_ae_vals.append(abs(rejection - exact_val))\n",
    "    likelihood_ae_vals.append(abs(likelihood - exact_val))\n",
    "    gibbs_ae_vals.append(abs(gibbs - exact_val))\n",
    "\n",
    "\n",
    "draw_plot(prior_ae_vals, rejection_ae_vals, likelihood_ae_vals, gibbs_ae_vals, \"AE Graph\")\n",
    "# TODO"
   ]
  }
 ],
 "metadata": {
  "kernelspec": {
   "display_name": "Python 3",
   "language": "python",
   "name": "python3"
  },
  "language_info": {
   "codemirror_mode": {
    "name": "ipython",
    "version": 3
   },
   "file_extension": ".py",
   "mimetype": "text/x-python",
   "name": "python",
   "nbconvert_exporter": "python",
   "pygments_lexer": "ipython3",
   "version": "3.10.6"
  },
  "orig_nbformat": 4
 },
 "nbformat": 4,
 "nbformat_minor": 2
}
