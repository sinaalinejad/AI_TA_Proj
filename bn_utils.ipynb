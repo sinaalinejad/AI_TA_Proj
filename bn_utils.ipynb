{
 "cells": [
  {
   "cell_type": "code",
   "execution_count": 1,
   "metadata": {},
   "outputs": [],
   "source": [
    "import os\n",
    "import json\n",
    "import numpy as np\n",
    "import matplotlib.pyplot as plt"
   ]
  },
  {
   "cell_type": "code",
   "execution_count": 2,
   "metadata": {},
   "outputs": [],
   "source": [
    "def mult(cpt1, cpt2):\n",
    "    cpt = []\n",
    "    keys1 = cpt1[0].keys()\n",
    "    keys2 = cpt2[0].keys()\n",
    "    share_keys = []\n",
    "    not_share_keys = []\n",
    "    for key in keys1:\n",
    "        if key in keys2 and key != 'Prob':\n",
    "            share_keys.append(key)\n",
    "        else:\n",
    "            not_share_keys.append(key)\n",
    "    for row1 in cpt1:\n",
    "        for row2 in cpt2:\n",
    "            flag = 1\n",
    "            for key in share_keys:\n",
    "                if row1[key] != row2[key]:\n",
    "                    flag = 0\n",
    "            if flag == 0:\n",
    "                continue\n",
    "            new_row = row2.copy()\n",
    "            for key in not_share_keys:\n",
    "                if key != 'Prob':\n",
    "                    new_row[key] = row1[key]\n",
    "                else:\n",
    "                    new_row['Prob'] = row1['Prob'] * row2['Prob']\n",
    "            cpt.append(new_row)\n",
    "    return cpt"
   ]
  },
  {
   "cell_type": "code",
   "execution_count": 3,
   "metadata": {},
   "outputs": [],
   "source": [
    "def find_joint(probability):\n",
    "    cpt = probability[0]\n",
    "    for i in range(1, len(probability)):\n",
    "        cpt = mult(cpt, probability[i])\n",
    "    return cpt"
   ]
  },
  {
   "cell_type": "code",
   "execution_count": 4,
   "metadata": {},
   "outputs": [],
   "source": [
    "def elimination(joint, node):\n",
    "    del_cpt = []\n",
    "    id_tracker = {}\n",
    "    for row2 in joint:\n",
    "        row = row2.copy()\n",
    "        id_string = \"\"\n",
    "        for key in row.keys():\n",
    "            if key == node or key == \"Prob\":\n",
    "                continue\n",
    "            if row[key]:\n",
    "                id_string += \"T\"\n",
    "            else:\n",
    "                id_string += \"F\"\n",
    "        if id_string in id_tracker.keys():\n",
    "            id_tracker[id_string]['Prob'] += row['Prob']\n",
    "        else:\n",
    "            id_tracker[id_string] = row\n",
    "    for key in id_tracker.keys():\n",
    "        row = id_tracker[key]\n",
    "        del row[node]\n",
    "        del_cpt.append(row.copy())\n",
    "    return del_cpt"
   ]
  },
  {
   "cell_type": "code",
   "execution_count": 5,
   "metadata": {},
   "outputs": [],
   "source": [
    "def variable_elimination(evidence, query, cpts):\n",
    "    new_cpts = cpts\n",
    "    for i in range(len(cpts)):\n",
    "        if evidence.get(i) or query.get(i):\n",
    "            continue\n",
    "        after_joint_prob = []\n",
    "        joint_prob = []\n",
    "        for cpt in new_cpts:\n",
    "            if i in cpt[0].keys():\n",
    "                joint_prob.append(cpt)\n",
    "            else:\n",
    "                after_joint_prob.append(cpt)\n",
    "        joint = find_joint(joint_prob)\n",
    "        new_cpts = after_joint_prob\n",
    "        new_cpts.append(elimination(joint, i))\n",
    "    final_joint = find_joint(new_cpts)\n",
    "    sum_prob = 0\n",
    "    holder = 0\n",
    "    for joint in final_joint:\n",
    "        sum_prob += joint['Prob']\n",
    "        flag = 1\n",
    "        for node, value in query.items():\n",
    "            if joint[node] != bool(value):\n",
    "                flag = 0\n",
    "                break\n",
    "        if flag == 1:\n",
    "            holder = joint['Prob']\n",
    "    return holder / sum_prob"
   ]
  },
  {
   "cell_type": "code",
   "execution_count": 6,
   "metadata": {},
   "outputs": [],
   "source": [
    "def topological_sort_util(v, visited, stack, graph):\n",
    "    visited[v] = True\n",
    "    for i in graph[v]:\n",
    "        if not visited[i]:\n",
    "            topological_sort_util(i, visited, stack, graph)\n",
    "\n",
    "    stack.append(v)\n",
    "\n",
    "def topological_sort(graph):\n",
    "    ch_nodes = graph['children_nodes']\n",
    "    visited = [False] * len(ch_nodes)\n",
    "    stack = []\n",
    "\n",
    "    for i in range(len(ch_nodes)):\n",
    "        if not visited[i]:\n",
    "            topological_sort_util(i, visited, stack, ch_nodes)\n",
    "    return stack[::-1]"
   ]
  },
  {
   "cell_type": "code",
   "execution_count": 7,
   "metadata": {},
   "outputs": [],
   "source": [
    "def sample_vertex(node, values, cpts):\n",
    "    cpt = cpts[node]\n",
    "    holder_row = {}\n",
    "    for row in cpt:\n",
    "        flag = 1\n",
    "        for key in row.keys():\n",
    "            if key != 'Prob' and values[key] != -1 and row[key] != values[key]:\n",
    "                flag = 0\n",
    "                break\n",
    "        if flag == 1:\n",
    "            holder_row = row.copy()\n",
    "            break\n",
    "    x = holder_row['Prob']\n",
    "    if np.random.random() < x:\n",
    "        return True\n",
    "    return False"
   ]
  },
  {
   "cell_type": "code",
   "execution_count": 8,
   "metadata": {},
   "outputs": [],
   "source": [
    "def draw_plot(prior, reject, likelihood, gibbs, title):\n",
    "    X = [1, 2, 3, 4, 5, 6, 7]\n",
    "\n",
    "    # Plotting both the curves simultaneously\n",
    "    plt.plot(X, prior, color='r', label='Prior')\n",
    "    plt.plot(X, reject, color='g', label='Rejection')\n",
    "    plt.plot(X, likelihood, color='b', label='Likelihood')\n",
    "    plt.plot(X, gibbs, color='y', label='Gibbs')\n",
    "\n",
    "    plt.xlabel(\"#Q\")\n",
    "    plt.ylabel(\"AE\")\n",
    "    plt.title(title)\n",
    "    plt.legend()\n",
    "    # path = OUT_PATH\n",
    "    # path = os.path.join(path, \"out.png\")\n",
    "    # plt.savefig(path)\n",
    "    plt.show()"
   ]
  }
 ],
 "metadata": {
  "kernelspec": {
   "display_name": "AI_4023",
   "language": "python",
   "name": "python3"
  },
  "language_info": {
   "codemirror_mode": {
    "name": "ipython",
    "version": 3
   },
   "file_extension": ".py",
   "mimetype": "text/x-python",
   "name": "python",
   "nbconvert_exporter": "python",
   "pygments_lexer": "ipython3",
   "version": "3.10.6"
  },
  "orig_nbformat": 4
 },
 "nbformat": 4,
 "nbformat_minor": 2
}
